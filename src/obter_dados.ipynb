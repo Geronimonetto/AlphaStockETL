{
 "cells": [
  {
   "cell_type": "markdown",
   "metadata": {},
   "source": [
    "# **Projeto: Extração de Dados de Ações com a API Alpha Vantage**\n",
    "\n",
    "A API **Alpha Vantage** fornece informações sobre cotações de preços de ações de algumas das maiores empresas do mundo. Este projeto realiza a extração, processamento e análise de dados financeiros dessas empresas.\n",
    "\n",
    "## Empresas Monitoradas\n",
    "- **Apple (AAPL)**\n",
    "- **Google (GOOG)**\n",
    "- **Microsoft (MSFT)**\n",
    "\n",
    "---\n",
    "\n",
    "## **Descrição do Dataset**\n",
    "\n",
    "O dataset extraído contém os seguintes campos:\n",
    "\n",
    "- **`open`**:  \n",
    "  O preço de **abertura** da ação no dia. Representa o valor da primeira negociação realizada quando o mercado abriu naquele dia.\n",
    "\n",
    "- **`high`**:  \n",
    "  O preço mais **alto** atingido pela ação durante o dia. Representa o maior valor registrado pela ação enquanto o mercado estava aberto.\n",
    "\n",
    "- **`low`**:  \n",
    "  O preço mais **baixo** atingido pela ação durante o dia. Representa o menor valor registrado pela ação enquanto o mercado estava aberto.\n",
    "\n",
    "- **`close`**:  \n",
    "  O preço de **fechamento** da ação no final do dia. Representa o valor da última negociação realizada antes do mercado fechar.\n",
    "\n",
    "- **`volume`**:  \n",
    "  O **volume** de ações negociadas durante o dia. Indica o número total de ações compradas e vendidas naquele período.\n",
    "\n",
    "- **`symbol`**:  \n",
    "  O **símbolo** da ação. Identifica a empresa associada à ação (e.g., `AAPL` para Apple, `GOOG` para Google, `MSFT` para Microsoft).\n",
    "\n",
    "---\n",
    "\n",
    "## **Objetivos do Projeto**\n",
    "1. Extrair dados históricos das ações das empresas monitoradas utilizando a API Alpha Vantage.\n",
    "2. Consolidar os dados de todas as empresas em um único dataset.\n",
    "3. Analisar o comportamento das ações, incluindo preços de abertura, máximos, mínimos, fechamentos e volumes de negociação.\n",
    "4. Gerar insights sobre a performance das ações ao longo do tempo.\n",
    "\n",
    "---\n",
    "\n",
    "## **Tecnologias Utilizadas**\n",
    "- **Python**: Linguagem principal para a extração e processamento de dados.\n",
    "- **Bibliotecas**:\n",
    "  - `requests`: Para acessar a API Alpha Vantage.\n",
    "  - `pandas`: Para manipulação e análise dos dados.\n",
    "  - `matplotlib` e `seaborn`: Para visualização dos dados (opcional).\n",
    "\n",
    "---\n",
    "\n",
    "## **Passos do Projeto**\n",
    "1. **Configuração**: Obtenção da chave de API e definição dos símbolos das ações a serem monitoradas.\n",
    "2. **Extração**: Coleta dos dados históricos das ações diretamente da API.\n",
    "3. **Transformação**:\n",
    "   - Normalização dos dados (renomeação de colunas e conversão de datas).\n",
    "   - Consolidação de múltiplos datasets em um único DataFrame.\n",
    "4. **Análise**: Geração de estatísticas descritivas e gráficos sobre o comportamento das ações.\n",
    "\n",
    "---\n",
    "\n",
    "## **Exemplo de Dados Extraídos**\n",
    "| Date       | open    | high    | low     | close   | volume    | symbol |\n",
    "|------------|---------|---------|---------|---------|-----------|--------|\n",
    "| 2024-11-22 | 228.060 | 230.720 | 228.060 | 229.870 | 38168252  | AAPL   |\n",
    "| 2024-11-21 | 228.880 | 230.155 | 225.710 | 228.520 | 42108327  | AAPL   |\n",
    "| 2024-11-20 | 228.060 | 229.930 | 225.890 | 229.000 | 35169566  | AAPL   |\n",
    "| 2024-11-19 | 226.980 | 230.160 | 226.660 | 228.280 | 36211774  | AAPL   |\n",
    "| 2024-11-18 | 225.250 | 229.740 | 225.170 | 228.020 | 44686020  | AAPL   |\n",
    "\n",
    "\n"
   ]
  },
  {
   "cell_type": "markdown",
   "metadata": {},
   "source": [
    "# Bibliotecas necessárias"
   ]
  },
  {
   "cell_type": "code",
   "execution_count": 31,
   "metadata": {},
   "outputs": [],
   "source": [
    "import requests\n",
    "from datetime import datetime\n",
    "import pandas as pd\n",
    "import matplotlib.pyplot as plt"
   ]
  },
  {
   "cell_type": "code",
   "execution_count": 40,
   "metadata": {},
   "outputs": [],
   "source": [
    "import requests\n",
    "import pandas as pd\n",
    "\n",
    "api_key = \"SY1X62CUITLR11BG\"\n",
    "\n",
    "# List of stock symbols\n",
    "stocks = [\"AAPL\", \"MSFT\", \"GOOG\"]\n",
    "\n",
    "# Function to fetch daily stock data\n",
    "def fetch_stock_data(symbol):\n",
    "    url = f\"https://www.alphavantage.co/query?function=TIME_SERIES_DAILY&symbol={symbol}&outputsize=full&apikey={api_key}\"\n",
    "    response = requests.get(url)\n",
    "    data = response.json()\n",
    "    \n",
    "    # Extracting stock data\n",
    "    if 'Time Series (Daily)' in data:\n",
    "        stock_data = data['Time Series (Daily)']\n",
    "        df = pd.DataFrame.from_dict(stock_data, orient='index')\n",
    "        df = df.rename(columns={\n",
    "            '1. open': 'open',\n",
    "            '2. high': 'high',\n",
    "            '3. low': 'low',\n",
    "            '4. close': 'close',\n",
    "            '5. volume': 'volume'\n",
    "        })\n",
    "        df.index = pd.to_datetime(df.index) \n",
    "        \n",
    "        # Add a column for the stock symbol\n",
    "        df['symbol'] = symbol\n",
    "        \n",
    "        return df\n",
    "    else:\n",
    "        print(f\"Error fetching data for {symbol}\")\n",
    "        return None\n",
    "\n",
    "# List to store DataFrames\n",
    "all_data = []\n",
    "\n",
    "\n"
   ]
  },
  {
   "cell_type": "markdown",
   "metadata": {},
   "source": [
    "# Unindo todos os dataframes e convertendo colunas numéricas\n",
    "Nossa lista contém todos os dados armazenados com as informações das empresas a partir disso podemos unir os dados para formar 1 único dataframe."
   ]
  },
  {
   "cell_type": "code",
   "execution_count": 41,
   "metadata": {},
   "outputs": [
    {
     "name": "stdout",
     "output_type": "stream",
     "text": [
      "              open      high       low   close    volume symbol\n",
      "2024-11-22  228.06  230.7199  228.0600  229.87  38168252   AAPL\n",
      "2024-11-21  228.88  230.1550  225.7103  228.52  42108327   AAPL\n",
      "2024-11-20  228.06  229.9300  225.8900  229.00  35169566   AAPL\n",
      "2024-11-19  226.98  230.1600  226.6600  228.28  36211774   AAPL\n",
      "2024-11-18  225.25  229.7400  225.1700  228.02  44686020   AAPL\n"
     ]
    }
   ],
   "source": [
    "# Using map and lambda to collect data for each stock\n",
    "all_data = list(\n",
    "    map(lambda stock: fetch_stock_data(stock), stocks)\n",
    ")\n",
    "\n",
    "# Filter out None values\n",
    "all_data = [data for data in all_data if data is not None]\n",
    "\n",
    "# Convert numeric columns to float without altering 'symbol'\n",
    "for i in range(len(all_data)):\n",
    "    numeric_cols = all_data[i].columns.difference(['symbol'])\n",
    "    all_data[i][numeric_cols] = all_data[i][numeric_cols].apply(pd.to_numeric, errors='coerce')\n",
    "\n",
    "# Concatenate all DataFrames into a single DataFrame\n",
    "complete_df = pd.concat(all_data)\n",
    "\n",
    "# Display the combined data\n",
    "print(complete_df.head())  # Displaying the first 5 rows"
   ]
  },
  {
   "cell_type": "code",
   "execution_count": 26,
   "metadata": {},
   "outputs": [],
   "source": [
    "complete_df['difference_price'] = complete_df['open'] - complete_df['close']"
   ]
  },
  {
   "cell_type": "code",
   "execution_count": 42,
   "metadata": {},
   "outputs": [
    {
     "data": {
      "text/plain": [
       "91794"
      ]
     },
     "execution_count": 42,
     "metadata": {},
     "output_type": "execute_result"
    }
   ],
   "source": [
    "complete_df.size"
   ]
  },
  {
   "cell_type": "markdown",
   "metadata": {},
   "source": [
    "## **Variação diária de preços (high - low)**\n",
    "Analisar a variação diária é muito útil para identificar a volatilidade de cada ação diariamente."
   ]
  },
  {
   "cell_type": "code",
   "execution_count": 44,
   "metadata": {},
   "outputs": [
    {
     "name": "stdout",
     "output_type": "stream",
     "text": [
      "Dias com maior variação diária:\n",
      "           symbol  daily_range       high        low\n",
      "2021-10-27   GOOG     184.3100  2982.3600  2798.0500\n",
      "2022-02-24   GOOG     165.4500  2660.7400  2495.2900\n",
      "2022-07-05   GOOG     156.0615  2281.0516  2124.9901\n",
      "2022-05-04   GOOG     148.0900  2462.8600  2314.7700\n",
      "2022-02-03   GOOG     138.2544  2982.3544  2844.1000\n"
     ]
    }
   ],
   "source": [
    "\n",
    "\n",
    "# Calculando a variação diária de preços\n",
    "complete_df['daily_range'] = complete_df['high'] - complete_df['low']\n",
    "\n",
    "# Exibindo os dias com maior volatilidade\n",
    "top_volatility = complete_df.nlargest(5, 'daily_range')\n",
    "print(\"Dias com maior variação diária:\")\n",
    "print(top_volatility[['symbol', 'daily_range', 'high', 'low']])\n"
   ]
  },
  {
   "cell_type": "markdown",
   "metadata": {},
   "source": [
    "## **Volume médio por ação**\n",
    "\n",
    "**Insight:**  \n",
    "O volume médio ajuda a entender a liquidez de cada ação. Ações com maior volume médio indicam maior interesse do mercado, enquanto volumes baixos podem sinalizar menor liquidez."
   ]
  },
  {
   "cell_type": "code",
   "execution_count": null,
   "metadata": {},
   "outputs": [
    {
     "name": "stdout",
     "output_type": "stream",
     "text": [
      "Volume médio por ação:\n",
      "symbol\n",
      "AAPL    3.317143e+07\n",
      "GOOG    6.453363e+06\n",
      "MSFT    4.508674e+07\n",
      "Name: volume, dtype: float64\n"
     ]
    }
   ],
   "source": [
    "average_volume = complete_df.groupby('symbol')['volume'].mean()\n",
    "\n",
    "print(\"Volume médio por ação:\")\n",
    "print(average_volume)"
   ]
  },
  {
   "cell_type": "markdown",
   "metadata": {},
   "source": [
    "## **Média de preço de fechamento por ano**\n",
    "Isso pode revelar tendências gerais de valorização ou desvalorização ao longo do tempo."
   ]
  },
  {
   "cell_type": "code",
   "execution_count": 47,
   "metadata": {},
   "outputs": [
    {
     "name": "stdout",
     "output_type": "stream",
     "text": [
      "Preço médio de fechamento por ano:\n",
      "symbol  year\n",
      "AAPL    1999     96.859302\n",
      "        2000     71.748929\n",
      "        2001     20.219113\n",
      "        2002     19.139524\n",
      "        2003     18.543349\n",
      "                   ...    \n",
      "MSFT    2020    193.026126\n",
      "        2021    275.940774\n",
      "        2022    268.917092\n",
      "        2023    313.950980\n",
      "        2024    418.492907\n",
      "Name: close, Length: 63, dtype: float64\n"
     ]
    }
   ],
   "source": [
    "# Adicionando uma coluna para o ano\n",
    "complete_df['year'] = complete_df.index.year\n",
    "\n",
    "# Calculando o preço médio de fechamento por ano e por ação\n",
    "avg_close_per_year = complete_df.groupby(['symbol', 'year'])['close'].mean()\n",
    "\n",
    "print(\"Preço médio de fechamento por ano:\")\n",
    "print(avg_close_per_year)"
   ]
  },
  {
   "cell_type": "markdown",
   "metadata": {},
   "source": [
    "## **Correlação entre preço de abertura e fechamento**\n",
    "Pode indicar o quão próximas são as aberturas e fechamentos diários de uma ação."
   ]
  },
  {
   "cell_type": "code",
   "execution_count": 48,
   "metadata": {},
   "outputs": [
    {
     "name": "stdout",
     "output_type": "stream",
     "text": [
      "Correlação entre abertura e fechamento por ação:\n",
      "symbol\n",
      "AAPL    0.999742\n",
      "GOOG    0.999731\n",
      "MSFT    0.999837\n",
      "dtype: float64\n"
     ]
    },
    {
     "name": "stderr",
     "output_type": "stream",
     "text": [
      "C:\\Users\\geron\\AppData\\Local\\Temp\\ipykernel_18232\\2971034999.py:2: DeprecationWarning: DataFrameGroupBy.apply operated on the grouping columns. This behavior is deprecated, and in a future version of pandas the grouping columns will be excluded from the operation. Either pass `include_groups=False` to exclude the groupings or explicitly select the grouping columns after groupby to silence this warning.\n",
      "  correlations = complete_df.groupby('symbol').apply(\n"
     ]
    }
   ],
   "source": [
    "# Correlação entre preço de abertura e fechamento para cada ação\n",
    "correlations = complete_df.groupby('symbol').apply(\n",
    "    lambda x: x['open'].corr(x['close'])\n",
    ")\n",
    "\n",
    "print(\"Correlação entre abertura e fechamento por ação:\")\n",
    "print(correlations)\n"
   ]
  },
  {
   "cell_type": "markdown",
   "metadata": {},
   "source": [
    "## **Análise de tendência com médias móveis**\n",
    "Uma média móvel ajuda a suavizar os dados para identificar tendências."
   ]
  },
  {
   "cell_type": "code",
   "execution_count": 49,
   "metadata": {},
   "outputs": [
    {
     "name": "stdout",
     "output_type": "stream",
     "text": [
      "Média móvel de 7 dias adicionada:\n",
      "           symbol   close  7_day_moving_avg\n",
      "2024-11-22   AAPL  229.87               NaN\n",
      "2024-11-21   AAPL  228.52               NaN\n",
      "2024-11-20   AAPL  229.00               NaN\n",
      "2024-11-19   AAPL  228.28               NaN\n",
      "2024-11-18   AAPL  228.02               NaN\n",
      "2024-11-15   AAPL  225.00               NaN\n",
      "2024-11-14   AAPL  228.22        228.130000\n",
      "2024-11-13   AAPL  225.12        227.451429\n",
      "2024-11-12   AAPL  224.23        226.838571\n",
      "2024-11-11   AAPL  224.23        226.157143\n"
     ]
    }
   ],
   "source": [
    "# Calculando uma média móvel de 7 dias para o preço de fechamento\n",
    "complete_df['7_day_moving_avg'] = complete_df.groupby('symbol')['close'].transform(lambda x: x.rolling(window=7).mean())\n",
    "\n",
    "# Exibindo as primeiras linhas com a nova coluna\n",
    "print(\"Média móvel de 7 dias adicionada:\")\n",
    "print(complete_df[['symbol', 'close', '7_day_moving_avg']].head(10))\n"
   ]
  }
 ],
 "metadata": {
  "kernelspec": {
   "display_name": "venv",
   "language": "python",
   "name": "python3"
  },
  "language_info": {
   "codemirror_mode": {
    "name": "ipython",
    "version": 3
   },
   "file_extension": ".py",
   "mimetype": "text/x-python",
   "name": "python",
   "nbconvert_exporter": "python",
   "pygments_lexer": "ipython3",
   "version": "3.13.0"
  }
 },
 "nbformat": 4,
 "nbformat_minor": 2
}
